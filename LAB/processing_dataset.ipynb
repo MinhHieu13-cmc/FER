{
 "cells": [
  {
   "metadata": {},
   "cell_type": "markdown",
   "source": "### FILE Này sẽ xử lý dữ liệu cho từng dataset đã được dùng cho bài toán FER",
   "id": "3993021f275b2e61"
  },
  {
   "metadata": {},
   "cell_type": "markdown",
   "source": "Dataset sẽ được xử lý và sử dụng theo database",
   "id": "6358fda6ef6b4b85"
  },
  {
   "cell_type": "code",
   "execution_count": null,
   "id": "initial_id",
   "metadata": {
    "collapsed": true
   },
   "outputs": [],
   "source": [
    ""
   ]
  }
 ],
 "metadata": {
  "kernelspec": {
   "display_name": "Python 3",
   "language": "python",
   "name": "python3"
  },
  "language_info": {
   "codemirror_mode": {
    "name": "ipython",
    "version": 2
   },
   "file_extension": ".py",
   "mimetype": "text/x-python",
   "name": "python",
   "nbconvert_exporter": "python",
   "pygments_lexer": "ipython2",
   "version": "2.7.6"
  }
 },
 "nbformat": 4,
 "nbformat_minor": 5
}
